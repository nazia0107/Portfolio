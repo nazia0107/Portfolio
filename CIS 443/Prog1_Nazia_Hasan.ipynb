{
 "cells": [
  {
   "cell_type": "code",
   "execution_count": null,
   "metadata": {},
   "outputs": [],
   "source": [
    "#This program estimates the value of Pi using a series pi = 4*(1 - 1/3 + 1/5 - 1/7 + 1/9 - 1/11 + ...)\n",
    "#The program outputs the number of terms of series and corresponding value of pi\n",
    "#Series 4- 4/3+4/5-4/7+4/9-4/11 ... can be written as 4 + 4/(2*i+1)(-1)**i where 4 is the 0th term. \n",
    "#Now if we add the subsequent positive and negative terms the value of Pi can be derived at the desired \n",
    "#level of precision.\n",
    "n = int(input('Enter the number of terms you would like to run the code: '))\n",
    "piValue = 0\n",
    "denominator =2*i-1\n",
    "for i in range(1,n,1): \n",
    "    denominator =2*i-1\n",
    "    x= numerator/denominator\n",
    "    if i%2==0:\n",
    "        piValue -=x\n",
    "    else:\n",
    "        piValue +=x\n",
    "    print(f'{i:>8} {pi:>10.6f}')"
   ]
  }
 ],
 "metadata": {
  "kernelspec": {
   "display_name": "Python 3",
   "language": "python",
   "name": "python3"
  },
  "language_info": {
   "codemirror_mode": {
    "name": "ipython",
    "version": 3
   },
   "file_extension": ".py",
   "mimetype": "text/x-python",
   "name": "python",
   "nbconvert_exporter": "python",
   "pygments_lexer": "ipython3",
   "version": "3.8.3"
  }
 },
 "nbformat": 4,
 "nbformat_minor": 4
}
