{
 "cells": [
  {
   "cell_type": "markdown",
   "metadata": {},
   "source": [
    "# CIS 443-01 - Analytics Programming\n",
    "## Lab 4\n",
    "__Grading ID__: D9361<br>\n",
    "__Due__: Monday, October 19 (by 11:59 PM)<br />\n",
    "__Worth__: 25 pts."
   ]
  },
  {
   "cell_type": "markdown",
   "metadata": {},
   "source": [
    "### Directions\n",
    "In the code cell below, write Python code to complete __Exercise 6.7__, p. 235 (Character Counts) Recall that strings are sequences of characters. Use techniques similar to Fig. 6.2 to write a script that inputs a sentence from the user, then uses a dictionary to summarize the number of occurrences of each letter. Ignore case, ignore blanks and assume the user does not enter any punctuation. Display a two-column table of the letters and their counts with the letters in sorted order. Finally, use a set operation to determine which letters of the alphabet were not in the original string and print this result, as well. Test your source code and save your work before submission. (25 pts.)"
   ]
  },
  {
   "cell_type": "code",
   "execution_count": null,
   "metadata": {},
   "outputs": [],
   "source": [
    "text = input(\"Please Enter a sentence: \")\n",
    "\n",
    "#Creates empty dictionary \n",
    "letter_counts = {}\n",
    "\n",
    "for letter in text:\n",
    "    if letter in letter_counts: \n",
    "        letter_counts[letter] += 1  # update existing key-value pair\n",
    "    else:\n",
    "        letter_counts[letter] = 1  # insert new key-value pair\n",
    "\n",
    "print(f'{\"Letter\":<12}Count') # displays the column header \n",
    "\n",
    "for letter, count in sorted(letter_counts.items()):\n",
    "    print(f'{letter:<12}{count}') #displays each characters and their counts \n",
    "\n",
    "#Creates a set of alphabets \n",
    "alphabets = set('abcdefghijklmnopqrstuvwxyz')\n",
    "\n",
    "#Finds the letters that are not in the dictionary\n",
    "user_input = alphabets.difference(letter_counts.keys())\n",
    "\n",
    "# displays the characters that are not in the user input\n",
    "print('\\nAlphabets that are not in the entered string:', sorted(user_input))\n"
   ]
  },
  {
   "cell_type": "markdown",
   "metadata": {},
   "source": [
    "Be sure to save and exit your Jupyter Notebook and Shutdown Jupyter Lab (from the __File__ menu) before you submit your notebook on Blackboard for grading."
   ]
  }
 ],
 "metadata": {
  "kernelspec": {
   "display_name": "Python 3",
   "language": "python",
   "name": "python3"
  },
  "language_info": {
   "codemirror_mode": {
    "name": "ipython",
    "version": 3
   },
   "file_extension": ".py",
   "mimetype": "text/x-python",
   "name": "python",
   "nbconvert_exporter": "python",
   "pygments_lexer": "ipython3",
   "version": "3.8.3"
  }
 },
 "nbformat": 4,
 "nbformat_minor": 4
}
