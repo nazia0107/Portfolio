{
 "cells": [
  {
   "cell_type": "markdown",
   "metadata": {},
   "source": [
    "# CIS 443-01 - Analytics Programming\n",
    "## Lab 5\n",
    "__Grading ID__: D9361<br>\n",
    "__Due__: Monday, November 16 (by 11:59 PM)<br />\n",
    "__Worth__: 25 pts."
   ]
  },
  {
   "cell_type": "markdown",
   "metadata": {},
   "source": [
    "### Directions\n",
    "In the code cell below, write Python code to complete __Exercise 9.3__, p. 349 (Class Average: Writing Student Records to a CSV File)\n",
    "<p>An instructor teaches a class in which each student takes three exams. The instructor would like to store this information in a file named grades.csv for later use. Write code that enables an instructor to enter each student&rsquo;s first name and last name as strings and the student&rsquo;s three exam grades as integers. Use the <strong>csv</strong> module to write each record into the <em>grades.csv</em> file. Each record should be a single line of text in the following CSV format:</p>\n",
    "<p><em>firstname,lastname,exam1grade,exam2grade,exam3grade</em></p>\n",
    "Test your source code and save your work before submission. (12.5 pts.)"
   ]
  },
  {
   "cell_type": "code",
   "execution_count": 1,
   "metadata": {},
   "outputs": [
    {
     "name": "stdin",
     "output_type": "stream",
     "text": [
      "Enter first name: Andy\n",
      "Enter last name: John\n",
      "Enter exam1 grade: 90\n",
      "Enter exam2 grade: 93\n",
      "Enter exam3 grade: 96\n",
      "More students to enter (y/n)?  y\n",
      "Enter first name: Mike\n",
      "Enter last name: Dane\n",
      "Enter exam1 grade: 99\n",
      "Enter exam2 grade: 95\n",
      "Enter exam3 grade: 98\n",
      "More students to enter (y/n)?  y\n",
      "Enter first name: Matt\n",
      "Enter last name: Dues\n",
      "Enter exam1 grade: 89\n",
      "Enter exam2 grade: 94\n",
      "Enter exam3 grade: 99\n",
      "More students to enter (y/n)?  n\n"
     ]
    }
   ],
   "source": [
    "import csv \n",
    "again ='y'\n",
    "while again == 'y':\n",
    "    with open('grades.csv', mode='a', newline='') as grades: \n",
    "            writer = csv.writer(grades)\n",
    "            first_name = input('Enter first name:')\n",
    "            last_name = input('Enter last name:')\n",
    "            grade1 = int(input('Enter exam1 grade:'))\n",
    "            grade2 = int(input('Enter exam2 grade:'))\n",
    "            grade3 = int(input('Enter exam3 grade:'))\n",
    "            writer.writerow([first_name, last_name, grade1,grade2,grade3])\n",
    "        \n",
    "            again = input('More students to enter (y/n)? ').lower()\n",
    " "
   ]
  },
  {
   "cell_type": "markdown",
   "metadata": {},
   "source": [
    "In the code cell below, write Python code to complete __Exercises 9.4 and 9.5__, p. 349-350 (Creating a Grade Report from a CSV File)\n",
    "<p>Use the <strong>csv</strong> module to read the <em>grades.csv</em> file from the previous exercise. Create a grade report that displays each student&rsquo;s average to the right of that student&rsquo;s row and the class average for each exam below that exam&rsquo;s column.</p>\n",
    "Test your source code and save your work before submission. (12.5 pts.)"
   ]
  },
  {
   "cell_type": "code",
   "execution_count": 2,
   "metadata": {},
   "outputs": [
    {
     "name": "stdout",
     "output_type": "stream",
     "text": [
      "  FirstName LastName  Exam1Grade  Exam2Grade  Exam3Grade  Average\n",
      "0      Andy     John          90          93          96     93.0\n",
      "1      Mike     Dane          99          95          98     97.3\n",
      "2      Matt     Dues          89          94          99     94.0\n",
      "Class Average:             92.67         94.00       97.67\n"
     ]
    }
   ],
   "source": [
    "import pandas as pd\n",
    "\n",
    "df = pd.read_csv('grades.csv', names=['FirstName', 'LastName', 'Exam1Grade', 'Exam2Grade', 'Exam3Grade'])\n",
    "exam1Avg = df['Exam1Grade'].mean()\n",
    "exam2Avg = df['Exam2Grade'].mean()\n",
    "exam3Avg = df['Exam3Grade'].mean()\n",
    "row_mean = df.iloc[:, 2:5].mean(axis=1)\n",
    "df['Average'] = row_mean \n",
    "\n",
    "print(df.round(1))\n",
    "print(f'Class Average: {exam1Avg:>17.2f}{exam2Avg:>14.2f}{exam3Avg:>12.2f}')                     "
   ]
  },
  {
   "cell_type": "markdown",
   "metadata": {},
   "source": [
    "Be sure to save and exit your Jupyter Notebook and Shutdown Jupyter Lab (from the __File__ menu) before you submit your notebook on Blackboard for grading."
   ]
  }
 ],
 "metadata": {
  "kernelspec": {
   "display_name": "Python 3",
   "language": "python",
   "name": "python3"
  },
  "language_info": {
   "codemirror_mode": {
    "name": "ipython",
    "version": 3
   },
   "file_extension": ".py",
   "mimetype": "text/x-python",
   "name": "python",
   "nbconvert_exporter": "python",
   "pygments_lexer": "ipython3",
   "version": "3.8.3"
  }
 },
 "nbformat": 4,
 "nbformat_minor": 4
}
