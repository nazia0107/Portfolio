{
 "cells": [
  {
   "cell_type": "markdown",
   "metadata": {},
   "source": [
    "# CIS 443-01 - Analytics Programming\n",
    "## Lab 2\n",
    "__Grading ID__: D9361<br>\n",
    "__Due__: Monday, September 14 (by 11:59 PM)<br />\n",
    "__Worth__: 25 pts."
   ]
  },
  {
   "cell_type": "markdown",
   "metadata": {},
   "source": [
    "### Directions\n",
    "In the code cell below, write Python code to accomplish the following using what you've learned through Chapter 4. Let's continue our exploration of Pi by creating a new estimate using Monte Carlo simulation. The approach will follow Example 1 from the following article:\n",
    "\n",
    "<a href=\"https://medium.com/cantors-paradise/estimating-%CF%80-using-monte-carlo-simulations-3459a84b5ef9\" target=\"_blank\">Estimating π using Monte Carlo simulations</a>\n",
    "\n",
    "This technique relies on simulation and random numbers to estimate the value of Pi essentially by throwing darts at a board inscribed with a circle and counting how many darts land inside the circle and how many land outside the circle. For everyone's safety, let's stick to a computer-based simulation! To simplify, we'll use the first quadrant unit square as suggested in the article.\n",
    "\n",
    "The approach will work as follows:\n",
    "1. For each dart thrown, generate its coordinates, _x_ and _y_, using a random uniform distribution from 0 - 1. The Python function __random.random__ will include the 0 endpoint but exclude the 1 endpoint. The Python function __random.uniform__ may include the 1 endpoint. See <a href=\"https://docs.python.org/3/library/random.html\" target=\"_blank\">Python documenation for random module</a> for more details.\n",
    "1. If the dart is inside the quarter-circle, count it. A dart is inside the quarter-circle if its distance from the origin (0, 0) is <= 1. You may use the simplified distance formula: $D = \\sqrt{x^2 + y^2}$\n",
    "1. After all the darts have been thrown and counted, Pi may be estimated as: $π = 4 \\cdot \\frac{NumDartsInsideCircle}{TotalNumDarts}$\n",
    "\n",
    "Write a function named __estimate_pi_mc__ that takes a single integer parameter and returns the estimate of Pi using this Monte Carlo simulation approach. Also include code that will prompt the user for the number of darts they wish to use in the estimate. Call your function with this value and display the estimate with 6 digits of precision. Repeat this process until the user enters a number of darts that is <= 0. (25 pts.)\n"
   ]
  },
  {
   "cell_type": "code",
   "execution_count": 3,
   "metadata": {},
   "outputs": [],
   "source": [
    "import random \n",
    "import math\n",
    "def estimate_pi_mc(dart_count):\n",
    "    \"\"\"Calculate Pi using Monte Carlo Simulation \"\"\"\n",
    "    # Initializing dart count to 0 \n",
    "    inside_count = 0  \n",
    "    \n",
    "    # starting at 0 but not including the dart count \n",
    "    for i in range(0, dart_count):\n",
    "        x2 = random.random() ** 2\n",
    "        y2 = random.random() ** 2\n",
    "        distance = math.sqrt(x2 + y2)\n",
    "        \n",
    "        # Making sure if x and y lies inside the arc \n",
    "        if distance <=1:\n",
    "            inside_count += 1     \n",
    "        pi = 4 * (inside_count / dart_count) \n",
    "    \n",
    "    # returns pi\n",
    "    return pi  \n",
    "    "
   ]
  },
  {
   "cell_type": "code",
   "execution_count": 4,
   "metadata": {},
   "outputs": [
    {
     "name": "stdin",
     "output_type": "stream",
     "text": [
      "Enter the number of Darts to be used for Simulation:  10000\n"
     ]
    },
    {
     "name": "stdout",
     "output_type": "stream",
     "text": [
      "The estimated pi value is:   3.140000\n"
     ]
    }
   ],
   "source": [
    "dart_count= int(input(\"Enter the number of Darts to be used for Simulation: \"))\n",
    "print('The estimated pi value is:',f'{estimate_pi_mc(dart_count):>10.6f}')"
   ]
  },
  {
   "cell_type": "markdown",
   "metadata": {},
   "source": [
    "Be sure to save and exit your Jupyter Notebook and Shutdown Jupyter Lab (from the __File__ menu) before you submit your notebook on Blackboard for grading."
   ]
  }
 ],
 "metadata": {
  "kernelspec": {
   "display_name": "Python 3",
   "language": "python",
   "name": "python3"
  },
  "language_info": {
   "codemirror_mode": {
    "name": "ipython",
    "version": 3
   },
   "file_extension": ".py",
   "mimetype": "text/x-python",
   "name": "python",
   "nbconvert_exporter": "python",
   "pygments_lexer": "ipython3",
   "version": "3.8.3"
  }
 },
 "nbformat": 4,
 "nbformat_minor": 4
}
